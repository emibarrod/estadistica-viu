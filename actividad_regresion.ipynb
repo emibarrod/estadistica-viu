{
  "nbformat": 4,
  "nbformat_minor": 0,
  "metadata": {
    "colab": {
      "provenance": []
    },
    "kernelspec": {
      "name": "ir",
      "display_name": "R"
    },
    "language_info": {
      "name": "R"
    }
  },
  "cells": [
    {
      "cell_type": "markdown",
      "source": [
        "# Introducción"
      ],
      "metadata": {
        "id": "wC-XY3vAs8tq"
      }
    },
    {
      "cell_type": "markdown",
      "source": [
        "En el ámbito educativo, comprender los factores que contribuyen al éxito o fracaso estudiantil es esencial para mejorar los sistemas educativos y garantizar que cada estudiante tenga la oportunidad de alcanzar su máximo potencial. En este contexto, este estudio se enfoca en investigar y analizar el rendimiento estudiantil, con el objetivo de identificar los factores que influyen en el éxito y el fracaso académico.\n",
        "\n",
        "Para ello, llevaremos a cabo un análisis exploratorio de los datos (EDA). Luego, limpiaremos esos datos y los prepararemos para la fase de regresión. Por último, crearemos un modelo de regresión y comprobaremos su eficacia.\n",
        "\n",
        "Los objetivos finales son:\n",
        "- Conocer las principales variables que influyen en fracaso o éxito estudiantil.\n",
        "- Desarrollar un modelo de regresión que nos permita predecir si un estudiante se graduará o no con, al menos, un 85% de precisión."
      ],
      "metadata": {
        "id": "6F4sO8cXvey2"
      }
    },
    {
      "cell_type": "markdown",
      "source": [
        "# Descripción de los datos"
      ],
      "metadata": {
        "id": "2q3aMP10s_-G"
      }
    },
    {
      "cell_type": "markdown",
      "source": [
        "El conjunto de datos que vamos a usar ofrece información sobre estudiantes inscritos en diversos programas de pregrado en una institución educativa. Incluye datos demográficos, socioeconómicos y académicos que nos ayudarán a analizar las causas del abandono y el éxito estudiantil."
      ],
      "metadata": {
        "id": "2V0xb_FPuUum"
      }
    },
    {
      "cell_type": "code",
      "source": [
        "# Opción para poder visualizar todas las columnas\n",
        "options(repr.matrix.max.cols=50, repr.matrix.max.rows=100)\n",
        "# Carga de los datos. Nos aseguramos de que las\n",
        "# columnas string se carguen como factores\n",
        "dataset <- read.csv(\"dataset.csv\", stringsAsFactors=TRUE)"
      ],
      "metadata": {
        "id": "cDE1YSPXtWrm"
      },
      "execution_count": 1,
      "outputs": []
    },
    {
      "cell_type": "markdown",
      "source": [
        "Vemos que todas las columnas tienen valores numéricos, excepto la columna objetivo:"
      ],
      "metadata": {
        "id": "U4qXKc37yNWG"
      }
    },
    {
      "cell_type": "code",
      "source": [
        "head(dataset, 5)"
      ],
      "metadata": {
        "colab": {
          "base_uri": "https://localhost:8080/",
          "height": 275
        },
        "id": "RMlY62UfsRs8",
        "outputId": "f76be923-c6d1-4d1e-ad5b-1c81adc97d3f"
      },
      "execution_count": 2,
      "outputs": [
        {
          "output_type": "display_data",
          "data": {
            "text/html": [
              "<table class=\"dataframe\">\n",
              "<caption>A data.frame: 5 × 35</caption>\n",
              "<thead>\n",
              "\t<tr><th></th><th scope=col>Marital.status</th><th scope=col>Application.mode</th><th scope=col>Application.order</th><th scope=col>Course</th><th scope=col>Daytime.evening.attendance</th><th scope=col>Previous.qualification</th><th scope=col>Nacionality</th><th scope=col>Mother.s.qualification</th><th scope=col>Father.s.qualification</th><th scope=col>Mother.s.occupation</th><th scope=col>Father.s.occupation</th><th scope=col>Displaced</th><th scope=col>Educational.special.needs</th><th scope=col>Debtor</th><th scope=col>Tuition.fees.up.to.date</th><th scope=col>Gender</th><th scope=col>Scholarship.holder</th><th scope=col>Age.at.enrollment</th><th scope=col>International</th><th scope=col>Curricular.units.1st.sem..credited.</th><th scope=col>Curricular.units.1st.sem..enrolled.</th><th scope=col>Curricular.units.1st.sem..evaluations.</th><th scope=col>Curricular.units.1st.sem..approved.</th><th scope=col>Curricular.units.1st.sem..grade.</th><th scope=col>Curricular.units.1st.sem..without.evaluations.</th><th scope=col>Curricular.units.2nd.sem..credited.</th><th scope=col>Curricular.units.2nd.sem..enrolled.</th><th scope=col>Curricular.units.2nd.sem..evaluations.</th><th scope=col>Curricular.units.2nd.sem..approved.</th><th scope=col>Curricular.units.2nd.sem..grade.</th><th scope=col>Curricular.units.2nd.sem..without.evaluations.</th><th scope=col>Unemployment.rate</th><th scope=col>Inflation.rate</th><th scope=col>GDP</th><th scope=col>Target</th></tr>\n",
              "\t<tr><th></th><th scope=col>&lt;int&gt;</th><th scope=col>&lt;int&gt;</th><th scope=col>&lt;int&gt;</th><th scope=col>&lt;int&gt;</th><th scope=col>&lt;int&gt;</th><th scope=col>&lt;int&gt;</th><th scope=col>&lt;int&gt;</th><th scope=col>&lt;int&gt;</th><th scope=col>&lt;int&gt;</th><th scope=col>&lt;int&gt;</th><th scope=col>&lt;int&gt;</th><th scope=col>&lt;int&gt;</th><th scope=col>&lt;int&gt;</th><th scope=col>&lt;int&gt;</th><th scope=col>&lt;int&gt;</th><th scope=col>&lt;int&gt;</th><th scope=col>&lt;int&gt;</th><th scope=col>&lt;int&gt;</th><th scope=col>&lt;int&gt;</th><th scope=col>&lt;int&gt;</th><th scope=col>&lt;int&gt;</th><th scope=col>&lt;int&gt;</th><th scope=col>&lt;int&gt;</th><th scope=col>&lt;dbl&gt;</th><th scope=col>&lt;int&gt;</th><th scope=col>&lt;int&gt;</th><th scope=col>&lt;int&gt;</th><th scope=col>&lt;int&gt;</th><th scope=col>&lt;int&gt;</th><th scope=col>&lt;dbl&gt;</th><th scope=col>&lt;int&gt;</th><th scope=col>&lt;dbl&gt;</th><th scope=col>&lt;dbl&gt;</th><th scope=col>&lt;dbl&gt;</th><th scope=col>&lt;fct&gt;</th></tr>\n",
              "</thead>\n",
              "<tbody>\n",
              "\t<tr><th scope=row>1</th><td>1</td><td> 8</td><td>5</td><td> 2</td><td>1</td><td>1</td><td>1</td><td>13</td><td>10</td><td> 6</td><td>10</td><td>1</td><td>0</td><td>0</td><td>1</td><td>1</td><td>0</td><td>20</td><td>0</td><td>0</td><td>0</td><td>0</td><td>0</td><td> 0.00000</td><td>0</td><td>0</td><td>0</td><td> 0</td><td>0</td><td> 0.00000</td><td>0</td><td>10.8</td><td> 1.4</td><td> 1.74</td><td>Dropout </td></tr>\n",
              "\t<tr><th scope=row>2</th><td>1</td><td> 6</td><td>1</td><td>11</td><td>1</td><td>1</td><td>1</td><td> 1</td><td> 3</td><td> 4</td><td> 4</td><td>1</td><td>0</td><td>0</td><td>0</td><td>1</td><td>0</td><td>19</td><td>0</td><td>0</td><td>6</td><td>6</td><td>6</td><td>14.00000</td><td>0</td><td>0</td><td>6</td><td> 6</td><td>6</td><td>13.66667</td><td>0</td><td>13.9</td><td>-0.3</td><td> 0.79</td><td>Graduate</td></tr>\n",
              "\t<tr><th scope=row>3</th><td>1</td><td> 1</td><td>5</td><td> 5</td><td>1</td><td>1</td><td>1</td><td>22</td><td>27</td><td>10</td><td>10</td><td>1</td><td>0</td><td>0</td><td>0</td><td>1</td><td>0</td><td>19</td><td>0</td><td>0</td><td>6</td><td>0</td><td>0</td><td> 0.00000</td><td>0</td><td>0</td><td>6</td><td> 0</td><td>0</td><td> 0.00000</td><td>0</td><td>10.8</td><td> 1.4</td><td> 1.74</td><td>Dropout </td></tr>\n",
              "\t<tr><th scope=row>4</th><td>1</td><td> 8</td><td>2</td><td>15</td><td>1</td><td>1</td><td>1</td><td>23</td><td>27</td><td> 6</td><td> 4</td><td>1</td><td>0</td><td>0</td><td>1</td><td>0</td><td>0</td><td>20</td><td>0</td><td>0</td><td>6</td><td>8</td><td>6</td><td>13.42857</td><td>0</td><td>0</td><td>6</td><td>10</td><td>5</td><td>12.40000</td><td>0</td><td> 9.4</td><td>-0.8</td><td>-3.12</td><td>Graduate</td></tr>\n",
              "\t<tr><th scope=row>5</th><td>2</td><td>12</td><td>1</td><td> 3</td><td>0</td><td>1</td><td>1</td><td>22</td><td>28</td><td>10</td><td>10</td><td>0</td><td>0</td><td>0</td><td>1</td><td>0</td><td>0</td><td>45</td><td>0</td><td>0</td><td>6</td><td>9</td><td>5</td><td>12.33333</td><td>0</td><td>0</td><td>6</td><td> 6</td><td>6</td><td>13.00000</td><td>0</td><td>13.9</td><td>-0.3</td><td> 0.79</td><td>Graduate</td></tr>\n",
              "</tbody>\n",
              "</table>\n"
            ],
            "text/markdown": "\nA data.frame: 5 × 35\n\n| <!--/--> | Marital.status &lt;int&gt; | Application.mode &lt;int&gt; | Application.order &lt;int&gt; | Course &lt;int&gt; | Daytime.evening.attendance &lt;int&gt; | Previous.qualification &lt;int&gt; | Nacionality &lt;int&gt; | Mother.s.qualification &lt;int&gt; | Father.s.qualification &lt;int&gt; | Mother.s.occupation &lt;int&gt; | Father.s.occupation &lt;int&gt; | Displaced &lt;int&gt; | Educational.special.needs &lt;int&gt; | Debtor &lt;int&gt; | Tuition.fees.up.to.date &lt;int&gt; | Gender &lt;int&gt; | Scholarship.holder &lt;int&gt; | Age.at.enrollment &lt;int&gt; | International &lt;int&gt; | Curricular.units.1st.sem..credited. &lt;int&gt; | Curricular.units.1st.sem..enrolled. &lt;int&gt; | Curricular.units.1st.sem..evaluations. &lt;int&gt; | Curricular.units.1st.sem..approved. &lt;int&gt; | Curricular.units.1st.sem..grade. &lt;dbl&gt; | Curricular.units.1st.sem..without.evaluations. &lt;int&gt; | Curricular.units.2nd.sem..credited. &lt;int&gt; | Curricular.units.2nd.sem..enrolled. &lt;int&gt; | Curricular.units.2nd.sem..evaluations. &lt;int&gt; | Curricular.units.2nd.sem..approved. &lt;int&gt; | Curricular.units.2nd.sem..grade. &lt;dbl&gt; | Curricular.units.2nd.sem..without.evaluations. &lt;int&gt; | Unemployment.rate &lt;dbl&gt; | Inflation.rate &lt;dbl&gt; | GDP &lt;dbl&gt; | Target &lt;fct&gt; |\n|---|---|---|---|---|---|---|---|---|---|---|---|---|---|---|---|---|---|---|---|---|---|---|---|---|---|---|---|---|---|---|---|---|---|---|---|\n| 1 | 1 |  8 | 5 |  2 | 1 | 1 | 1 | 13 | 10 |  6 | 10 | 1 | 0 | 0 | 1 | 1 | 0 | 20 | 0 | 0 | 0 | 0 | 0 |  0.00000 | 0 | 0 | 0 |  0 | 0 |  0.00000 | 0 | 10.8 |  1.4 |  1.74 | Dropout  |\n| 2 | 1 |  6 | 1 | 11 | 1 | 1 | 1 |  1 |  3 |  4 |  4 | 1 | 0 | 0 | 0 | 1 | 0 | 19 | 0 | 0 | 6 | 6 | 6 | 14.00000 | 0 | 0 | 6 |  6 | 6 | 13.66667 | 0 | 13.9 | -0.3 |  0.79 | Graduate |\n| 3 | 1 |  1 | 5 |  5 | 1 | 1 | 1 | 22 | 27 | 10 | 10 | 1 | 0 | 0 | 0 | 1 | 0 | 19 | 0 | 0 | 6 | 0 | 0 |  0.00000 | 0 | 0 | 6 |  0 | 0 |  0.00000 | 0 | 10.8 |  1.4 |  1.74 | Dropout  |\n| 4 | 1 |  8 | 2 | 15 | 1 | 1 | 1 | 23 | 27 |  6 |  4 | 1 | 0 | 0 | 1 | 0 | 0 | 20 | 0 | 0 | 6 | 8 | 6 | 13.42857 | 0 | 0 | 6 | 10 | 5 | 12.40000 | 0 |  9.4 | -0.8 | -3.12 | Graduate |\n| 5 | 2 | 12 | 1 |  3 | 0 | 1 | 1 | 22 | 28 | 10 | 10 | 0 | 0 | 0 | 1 | 0 | 0 | 45 | 0 | 0 | 6 | 9 | 5 | 12.33333 | 0 | 0 | 6 |  6 | 6 | 13.00000 | 0 | 13.9 | -0.3 |  0.79 | Graduate |\n\n",
            "text/latex": "A data.frame: 5 × 35\n\\begin{tabular}{r|lllllllllllllllllllllllllllllllllll}\n  & Marital.status & Application.mode & Application.order & Course & Daytime.evening.attendance & Previous.qualification & Nacionality & Mother.s.qualification & Father.s.qualification & Mother.s.occupation & Father.s.occupation & Displaced & Educational.special.needs & Debtor & Tuition.fees.up.to.date & Gender & Scholarship.holder & Age.at.enrollment & International & Curricular.units.1st.sem..credited. & Curricular.units.1st.sem..enrolled. & Curricular.units.1st.sem..evaluations. & Curricular.units.1st.sem..approved. & Curricular.units.1st.sem..grade. & Curricular.units.1st.sem..without.evaluations. & Curricular.units.2nd.sem..credited. & Curricular.units.2nd.sem..enrolled. & Curricular.units.2nd.sem..evaluations. & Curricular.units.2nd.sem..approved. & Curricular.units.2nd.sem..grade. & Curricular.units.2nd.sem..without.evaluations. & Unemployment.rate & Inflation.rate & GDP & Target\\\\\n  & <int> & <int> & <int> & <int> & <int> & <int> & <int> & <int> & <int> & <int> & <int> & <int> & <int> & <int> & <int> & <int> & <int> & <int> & <int> & <int> & <int> & <int> & <int> & <dbl> & <int> & <int> & <int> & <int> & <int> & <dbl> & <int> & <dbl> & <dbl> & <dbl> & <fct>\\\\\n\\hline\n\t1 & 1 &  8 & 5 &  2 & 1 & 1 & 1 & 13 & 10 &  6 & 10 & 1 & 0 & 0 & 1 & 1 & 0 & 20 & 0 & 0 & 0 & 0 & 0 &  0.00000 & 0 & 0 & 0 &  0 & 0 &  0.00000 & 0 & 10.8 &  1.4 &  1.74 & Dropout \\\\\n\t2 & 1 &  6 & 1 & 11 & 1 & 1 & 1 &  1 &  3 &  4 &  4 & 1 & 0 & 0 & 0 & 1 & 0 & 19 & 0 & 0 & 6 & 6 & 6 & 14.00000 & 0 & 0 & 6 &  6 & 6 & 13.66667 & 0 & 13.9 & -0.3 &  0.79 & Graduate\\\\\n\t3 & 1 &  1 & 5 &  5 & 1 & 1 & 1 & 22 & 27 & 10 & 10 & 1 & 0 & 0 & 0 & 1 & 0 & 19 & 0 & 0 & 6 & 0 & 0 &  0.00000 & 0 & 0 & 6 &  0 & 0 &  0.00000 & 0 & 10.8 &  1.4 &  1.74 & Dropout \\\\\n\t4 & 1 &  8 & 2 & 15 & 1 & 1 & 1 & 23 & 27 &  6 &  4 & 1 & 0 & 0 & 1 & 0 & 0 & 20 & 0 & 0 & 6 & 8 & 6 & 13.42857 & 0 & 0 & 6 & 10 & 5 & 12.40000 & 0 &  9.4 & -0.8 & -3.12 & Graduate\\\\\n\t5 & 2 & 12 & 1 &  3 & 0 & 1 & 1 & 22 & 28 & 10 & 10 & 0 & 0 & 0 & 1 & 0 & 0 & 45 & 0 & 0 & 6 & 9 & 5 & 12.33333 & 0 & 0 & 6 &  6 & 6 & 13.00000 & 0 & 13.9 & -0.3 &  0.79 & Graduate\\\\\n\\end{tabular}\n",
            "text/plain": [
              "  Marital.status Application.mode Application.order Course\n",
              "1 1               8               5                  2    \n",
              "2 1               6               1                 11    \n",
              "3 1               1               5                  5    \n",
              "4 1               8               2                 15    \n",
              "5 2              12               1                  3    \n",
              "  Daytime.evening.attendance Previous.qualification Nacionality\n",
              "1 1                          1                      1          \n",
              "2 1                          1                      1          \n",
              "3 1                          1                      1          \n",
              "4 1                          1                      1          \n",
              "5 0                          1                      1          \n",
              "  Mother.s.qualification Father.s.qualification Mother.s.occupation\n",
              "1 13                     10                      6                 \n",
              "2  1                      3                      4                 \n",
              "3 22                     27                     10                 \n",
              "4 23                     27                      6                 \n",
              "5 22                     28                     10                 \n",
              "  Father.s.occupation Displaced Educational.special.needs Debtor\n",
              "1 10                  1         0                         0     \n",
              "2  4                  1         0                         0     \n",
              "3 10                  1         0                         0     \n",
              "4  4                  1         0                         0     \n",
              "5 10                  0         0                         0     \n",
              "  Tuition.fees.up.to.date Gender Scholarship.holder Age.at.enrollment\n",
              "1 1                       1      0                  20               \n",
              "2 0                       1      0                  19               \n",
              "3 0                       1      0                  19               \n",
              "4 1                       0      0                  20               \n",
              "5 1                       0      0                  45               \n",
              "  International Curricular.units.1st.sem..credited.\n",
              "1 0             0                                  \n",
              "2 0             0                                  \n",
              "3 0             0                                  \n",
              "4 0             0                                  \n",
              "5 0             0                                  \n",
              "  Curricular.units.1st.sem..enrolled. Curricular.units.1st.sem..evaluations.\n",
              "1 0                                   0                                     \n",
              "2 6                                   6                                     \n",
              "3 6                                   0                                     \n",
              "4 6                                   8                                     \n",
              "5 6                                   9                                     \n",
              "  Curricular.units.1st.sem..approved. Curricular.units.1st.sem..grade.\n",
              "1 0                                    0.00000                        \n",
              "2 6                                   14.00000                        \n",
              "3 0                                    0.00000                        \n",
              "4 6                                   13.42857                        \n",
              "5 5                                   12.33333                        \n",
              "  Curricular.units.1st.sem..without.evaluations.\n",
              "1 0                                             \n",
              "2 0                                             \n",
              "3 0                                             \n",
              "4 0                                             \n",
              "5 0                                             \n",
              "  Curricular.units.2nd.sem..credited. Curricular.units.2nd.sem..enrolled.\n",
              "1 0                                   0                                  \n",
              "2 0                                   6                                  \n",
              "3 0                                   6                                  \n",
              "4 0                                   6                                  \n",
              "5 0                                   6                                  \n",
              "  Curricular.units.2nd.sem..evaluations. Curricular.units.2nd.sem..approved.\n",
              "1  0                                     0                                  \n",
              "2  6                                     6                                  \n",
              "3  0                                     0                                  \n",
              "4 10                                     5                                  \n",
              "5  6                                     6                                  \n",
              "  Curricular.units.2nd.sem..grade.\n",
              "1  0.00000                        \n",
              "2 13.66667                        \n",
              "3  0.00000                        \n",
              "4 12.40000                        \n",
              "5 13.00000                        \n",
              "  Curricular.units.2nd.sem..without.evaluations. Unemployment.rate\n",
              "1 0                                              10.8             \n",
              "2 0                                              13.9             \n",
              "3 0                                              10.8             \n",
              "4 0                                               9.4             \n",
              "5 0                                              13.9             \n",
              "  Inflation.rate GDP   Target  \n",
              "1  1.4            1.74 Dropout \n",
              "2 -0.3            0.79 Graduate\n",
              "3  1.4            1.74 Dropout \n",
              "4 -0.8           -3.12 Graduate\n",
              "5 -0.3            0.79 Graduate"
            ]
          },
          "metadata": {}
        }
      ]
    },
    {
      "cell_type": "markdown",
      "source": [
        "Aún así, que sean valores numéricos, no significa que sean columnas numéricas. La mayoría, como veremos en un apartado posterior, son columnas categóricas."
      ],
      "metadata": {
        "id": "Fh5yTXL_ye9-"
      }
    },
    {
      "cell_type": "markdown",
      "source": [
        "El dataset tiene 4424 filas y 35 columnas."
      ],
      "metadata": {
        "id": "_xjdOIkJt6u2"
      }
    },
    {
      "cell_type": "code",
      "source": [
        "dim(dataset)"
      ],
      "metadata": {
        "colab": {
          "base_uri": "https://localhost:8080/",
          "height": 34
        },
        "id": "BlX-67-JVJZE",
        "outputId": "ff5e2cf2-22dd-45b0-b822-a9ef703de94d"
      },
      "execution_count": 3,
      "outputs": [
        {
          "output_type": "display_data",
          "data": {
            "text/html": [
              "<style>\n",
              ".list-inline {list-style: none; margin:0; padding: 0}\n",
              ".list-inline>li {display: inline-block}\n",
              ".list-inline>li:not(:last-child)::after {content: \"\\00b7\"; padding: 0 .5ex}\n",
              "</style>\n",
              "<ol class=list-inline><li>4424</li><li>35</li></ol>\n"
            ],
            "text/markdown": "1. 4424\n2. 35\n\n\n",
            "text/latex": "\\begin{enumerate*}\n\\item 4424\n\\item 35\n\\end{enumerate*}\n",
            "text/plain": [
              "[1] 4424   35"
            ]
          },
          "metadata": {}
        }
      ]
    },
    {
      "cell_type": "markdown",
      "source": [
        "Un resumen de las características de todas las columnas:"
      ],
      "metadata": {
        "id": "gThTv5Wd6rc-"
      }
    },
    {
      "cell_type": "code",
      "source": [
        "summary(dataset)"
      ],
      "metadata": {
        "colab": {
          "base_uri": "https://localhost:8080/",
          "height": 1718
        },
        "id": "63aCaWQk6rIL",
        "outputId": "61fc1fbb-540c-464a-8588-506017f8691c"
      },
      "execution_count": 4,
      "outputs": [
        {
          "output_type": "display_data",
          "data": {
            "text/plain": [
              " Marital.status  Application.mode Application.order     Course      \n",
              " Min.   :1.000   Min.   : 1.000   Min.   :0.000     Min.   : 1.000  \n",
              " 1st Qu.:1.000   1st Qu.: 1.000   1st Qu.:1.000     1st Qu.: 6.000  \n",
              " Median :1.000   Median : 8.000   Median :1.000     Median :10.000  \n",
              " Mean   :1.179   Mean   : 6.887   Mean   :1.728     Mean   : 9.899  \n",
              " 3rd Qu.:1.000   3rd Qu.:12.000   3rd Qu.:2.000     3rd Qu.:13.000  \n",
              " Max.   :6.000   Max.   :18.000   Max.   :9.000     Max.   :17.000  \n",
              " Daytime.evening.attendance Previous.qualification  Nacionality    \n",
              " Min.   :0.0000             Min.   : 1.000         Min.   : 1.000  \n",
              " 1st Qu.:1.0000             1st Qu.: 1.000         1st Qu.: 1.000  \n",
              " Median :1.0000             Median : 1.000         Median : 1.000  \n",
              " Mean   :0.8908             Mean   : 2.531         Mean   : 1.255  \n",
              " 3rd Qu.:1.0000             3rd Qu.: 1.000         3rd Qu.: 1.000  \n",
              " Max.   :1.0000             Max.   :17.000         Max.   :21.000  \n",
              " Mother.s.qualification Father.s.qualification Mother.s.occupation\n",
              " Min.   : 1.00          Min.   : 1.00          Min.   : 1.000     \n",
              " 1st Qu.: 2.00          1st Qu.: 3.00          1st Qu.: 5.000     \n",
              " Median :13.00          Median :14.00          Median : 6.000     \n",
              " Mean   :12.32          Mean   :16.46          Mean   : 7.318     \n",
              " 3rd Qu.:22.00          3rd Qu.:27.00          3rd Qu.:10.000     \n",
              " Max.   :29.00          Max.   :34.00          Max.   :32.000     \n",
              " Father.s.occupation   Displaced      Educational.special.needs\n",
              " Min.   : 1.000      Min.   :0.0000   Min.   :0.00000          \n",
              " 1st Qu.: 5.000      1st Qu.:0.0000   1st Qu.:0.00000          \n",
              " Median : 8.000      Median :1.0000   Median :0.00000          \n",
              " Mean   : 7.819      Mean   :0.5484   Mean   :0.01153          \n",
              " 3rd Qu.:10.000      3rd Qu.:1.0000   3rd Qu.:0.00000          \n",
              " Max.   :46.000      Max.   :1.0000   Max.   :1.00000          \n",
              "     Debtor       Tuition.fees.up.to.date     Gender       Scholarship.holder\n",
              " Min.   :0.0000   Min.   :0.0000          Min.   :0.0000   Min.   :0.0000    \n",
              " 1st Qu.:0.0000   1st Qu.:1.0000          1st Qu.:0.0000   1st Qu.:0.0000    \n",
              " Median :0.0000   Median :1.0000          Median :0.0000   Median :0.0000    \n",
              " Mean   :0.1137   Mean   :0.8807          Mean   :0.3517   Mean   :0.2484    \n",
              " 3rd Qu.:0.0000   3rd Qu.:1.0000          3rd Qu.:1.0000   3rd Qu.:0.0000    \n",
              " Max.   :1.0000   Max.   :1.0000          Max.   :1.0000   Max.   :1.0000    \n",
              " Age.at.enrollment International     Curricular.units.1st.sem..credited.\n",
              " Min.   :17.00     Min.   :0.00000   Min.   : 0.00                      \n",
              " 1st Qu.:19.00     1st Qu.:0.00000   1st Qu.: 0.00                      \n",
              " Median :20.00     Median :0.00000   Median : 0.00                      \n",
              " Mean   :23.27     Mean   :0.02486   Mean   : 0.71                      \n",
              " 3rd Qu.:25.00     3rd Qu.:0.00000   3rd Qu.: 0.00                      \n",
              " Max.   :70.00     Max.   :1.00000   Max.   :20.00                      \n",
              " Curricular.units.1st.sem..enrolled. Curricular.units.1st.sem..evaluations.\n",
              " Min.   : 0.000                      Min.   : 0.000                        \n",
              " 1st Qu.: 5.000                      1st Qu.: 6.000                        \n",
              " Median : 6.000                      Median : 8.000                        \n",
              " Mean   : 6.271                      Mean   : 8.299                        \n",
              " 3rd Qu.: 7.000                      3rd Qu.:10.000                        \n",
              " Max.   :26.000                      Max.   :45.000                        \n",
              " Curricular.units.1st.sem..approved. Curricular.units.1st.sem..grade.\n",
              " Min.   : 0.000                      Min.   : 0.00                   \n",
              " 1st Qu.: 3.000                      1st Qu.:11.00                   \n",
              " Median : 5.000                      Median :12.29                   \n",
              " Mean   : 4.707                      Mean   :10.64                   \n",
              " 3rd Qu.: 6.000                      3rd Qu.:13.40                   \n",
              " Max.   :26.000                      Max.   :18.88                   \n",
              " Curricular.units.1st.sem..without.evaluations.\n",
              " Min.   : 0.0000                               \n",
              " 1st Qu.: 0.0000                               \n",
              " Median : 0.0000                               \n",
              " Mean   : 0.1377                               \n",
              " 3rd Qu.: 0.0000                               \n",
              " Max.   :12.0000                               \n",
              " Curricular.units.2nd.sem..credited. Curricular.units.2nd.sem..enrolled.\n",
              " Min.   : 0.0000                     Min.   : 0.000                     \n",
              " 1st Qu.: 0.0000                     1st Qu.: 5.000                     \n",
              " Median : 0.0000                     Median : 6.000                     \n",
              " Mean   : 0.5418                     Mean   : 6.232                     \n",
              " 3rd Qu.: 0.0000                     3rd Qu.: 7.000                     \n",
              " Max.   :19.0000                     Max.   :23.000                     \n",
              " Curricular.units.2nd.sem..evaluations. Curricular.units.2nd.sem..approved.\n",
              " Min.   : 0.000                         Min.   : 0.000                     \n",
              " 1st Qu.: 6.000                         1st Qu.: 2.000                     \n",
              " Median : 8.000                         Median : 5.000                     \n",
              " Mean   : 8.063                         Mean   : 4.436                     \n",
              " 3rd Qu.:10.000                         3rd Qu.: 6.000                     \n",
              " Max.   :33.000                         Max.   :20.000                     \n",
              " Curricular.units.2nd.sem..grade.\n",
              " Min.   : 0.00                   \n",
              " 1st Qu.:10.75                   \n",
              " Median :12.20                   \n",
              " Mean   :10.23                   \n",
              " 3rd Qu.:13.33                   \n",
              " Max.   :18.57                   \n",
              " Curricular.units.2nd.sem..without.evaluations. Unemployment.rate\n",
              " Min.   : 0.0000                                Min.   : 7.60    \n",
              " 1st Qu.: 0.0000                                1st Qu.: 9.40    \n",
              " Median : 0.0000                                Median :11.10    \n",
              " Mean   : 0.1503                                Mean   :11.57    \n",
              " 3rd Qu.: 0.0000                                3rd Qu.:13.90    \n",
              " Max.   :12.0000                                Max.   :16.20    \n",
              " Inflation.rate        GDP                 Target    \n",
              " Min.   :-0.800   Min.   :-4.060000   Dropout :1421  \n",
              " 1st Qu.: 0.300   1st Qu.:-1.700000   Enrolled: 794  \n",
              " Median : 1.400   Median : 0.320000   Graduate:2209  \n",
              " Mean   : 1.228   Mean   : 0.001969                  \n",
              " 3rd Qu.: 2.600   3rd Qu.: 1.790000                  \n",
              " Max.   : 3.700   Max.   : 3.510000                  "
            ]
          },
          "metadata": {}
        }
      ]
    },
    {
      "cell_type": "markdown",
      "source": [
        "## Descripción de las columnas"
      ],
      "metadata": {
        "id": "qNdNeHcruCzK"
      }
    },
    {
      "cell_type": "markdown",
      "source": [
        "| Nombre de la columna                                | Descripción                                                                                    |\n",
        "|--------------------------------------------|------------------------------------------------------------------------------------------------|\n",
        "| Marital status                             | El estado civil del estudiante. (Categórico)                                                    |\n",
        "| Application mode                           | El método de aplicación utilizado por el estudiante. (Categórico)                               |\n",
        "| Application order                          | El orden en el que el estudiante presentó la solicitud. (Numérico)                               |\n",
        "| Course                                     | El curso realizado por el estudiante. (Categórico)                                               |\n",
        "| Daytime/evening attendance                 | Si el estudiante asiste a clases durante el día o por la noche. (Categórico)                    |\n",
        "| Previous qualification                     | La calificación obtenida por el estudiante antes de inscribirse en educación superior. (Categórico)|\n",
        "| Nacionality                                | La nacionalidad del estudiante. (Categórico)                                                     |\n",
        "| Mother's qualification                     | La calificación de la madre del estudiante. (Categórico)                                         |\n",
        "| Father's qualification                     | La calificación del padre del estudiante. (Categórico)                                           |\n",
        "| Mother's occupation                        | La ocupación de la madre del estudiante. (Categórico)                                            |\n",
        "| Father's occupation                        | La ocupación del padre del estudiante. (Categórico)                                              |\n",
        "| Displaced                                  | Si el estudiante es una persona desplazada. (Categórico)                                          |\n",
        "| Educational special needs                  | Si el estudiante tiene alguna necesidad educativa especial. (Categórico)                          |\n",
        "| Debtor                                     | Si el estudiante es deudor. (Categórico)                                                          |\n",
        "| Tuition fees up to date                   | Si las cuotas de matrícula del estudiante están al día. (Categórico)                              |\n",
        "| Gender                                     | El género del estudiante. (Categórico)                                                            |\n",
        "| Scholarship holder                         | Si el estudiante es beneficiario de una beca. (Categórico)                                        |\n",
        "| Age at enrollment                         | La edad del estudiante al momento de la inscripción. (Numérico)                                    |\n",
        "| International                              | Si el estudiante es un estudiante internacional. (Categórico)                                      |\n",
        "| Curricular units 1st sem (credited)         | El número de unidades curriculares acreditadas por el estudiante en el primer semestre. (Numérico)  |\n",
        "| Curricular units 1st sem (enrolled)         | El número de unidades curriculares inscritas por el estudiante en el primer semestre. (Numérico)    |\n",
        "| Curricular units 1st sem (evaluations)      | El número de unidades curriculares evaluadas por el estudiante en el primer semestre. (Numérico)    |\n",
        "| Curricular units 1st sem (approved)         | El número de unidades curriculares aprobadas por el estudiante en el primer semestre. (Numérico)    |\n"
      ],
      "metadata": {
        "id": "6ia7M2OueeM8"
      }
    },
    {
      "cell_type": "markdown",
      "source": [
        "Nuestro objetivo es la columna Target, la cual tiene 3 valores:"
      ],
      "metadata": {
        "id": "EMA_ArPuwe_T"
      }
    },
    {
      "cell_type": "code",
      "source": [
        "unique(as.vector.factor(dataset$Target))"
      ],
      "metadata": {
        "colab": {
          "base_uri": "https://localhost:8080/",
          "height": 34
        },
        "id": "igrIDSIrxKCG",
        "outputId": "125dbb83-61ab-4bfe-ad56-5343a76e95c4"
      },
      "execution_count": 5,
      "outputs": [
        {
          "output_type": "display_data",
          "data": {
            "text/html": [
              "<style>\n",
              ".list-inline {list-style: none; margin:0; padding: 0}\n",
              ".list-inline>li {display: inline-block}\n",
              ".list-inline>li:not(:last-child)::after {content: \"\\00b7\"; padding: 0 .5ex}\n",
              "</style>\n",
              "<ol class=list-inline><li>'Dropout'</li><li>'Graduate'</li><li>'Enrolled'</li></ol>\n"
            ],
            "text/markdown": "1. 'Dropout'\n2. 'Graduate'\n3. 'Enrolled'\n\n\n",
            "text/latex": "\\begin{enumerate*}\n\\item 'Dropout'\n\\item 'Graduate'\n\\item 'Enrolled'\n\\end{enumerate*}\n",
            "text/plain": [
              "[1] \"Dropout\"  \"Graduate\" \"Enrolled\""
            ]
          },
          "metadata": {}
        }
      ]
    },
    {
      "cell_type": "markdown",
      "source": [
        "Cuando preparemos los datos, nos aseguraremos de quedarnos solo con las columnas Dropout y Graduate, ya que los alumnos que están aún cursando sus estudios no nos aportan información."
      ],
      "metadata": {
        "id": "CtQ6w6WizBjO"
      }
    },
    {
      "cell_type": "markdown",
      "source": [
        "# Preparación del dataset"
      ],
      "metadata": {
        "id": "eIkhKxe7dM9j"
      }
    },
    {
      "cell_type": "markdown",
      "source": [
        "Como hemos comentado anteriormente, no tendremos en cuenta los alumnos que aún están cursando sus estudios."
      ],
      "metadata": {
        "id": "ek2Wr_mHXhyY"
      }
    },
    {
      "cell_type": "code",
      "source": [
        "dataset_limpio <- dataset[!(dataset$Target==\"Enrolled\"),]"
      ],
      "metadata": {
        "id": "WvI6-QbUU5oY"
      },
      "execution_count": 6,
      "outputs": []
    },
    {
      "cell_type": "markdown",
      "source": [
        "Tras esto el dataset pasa de tener 4424 columnas a 3630 columnas."
      ],
      "metadata": {
        "id": "jRcBDXGU0fBK"
      }
    },
    {
      "cell_type": "code",
      "source": [
        "dim(dataset_limpio)"
      ],
      "metadata": {
        "colab": {
          "base_uri": "https://localhost:8080/",
          "height": 34
        },
        "id": "K97zXXG9VLTq",
        "outputId": "44e86f85-ab89-4f3e-b1f7-e2f33bb914da"
      },
      "execution_count": 7,
      "outputs": [
        {
          "output_type": "display_data",
          "data": {
            "text/html": [
              "<style>\n",
              ".list-inline {list-style: none; margin:0; padding: 0}\n",
              ".list-inline>li {display: inline-block}\n",
              ".list-inline>li:not(:last-child)::after {content: \"\\00b7\"; padding: 0 .5ex}\n",
              "</style>\n",
              "<ol class=list-inline><li>3630</li><li>35</li></ol>\n"
            ],
            "text/markdown": "1. 3630\n2. 35\n\n\n",
            "text/latex": "\\begin{enumerate*}\n\\item 3630\n\\item 35\n\\end{enumerate*}\n",
            "text/plain": [
              "[1] 3630   35"
            ]
          },
          "metadata": {}
        }
      ]
    },
    {
      "cell_type": "markdown",
      "source": [
        "La columna Target es categórica y debemos transformarla a numérica. En este caso será una variable binaria:"
      ],
      "metadata": {
        "id": "WWm9wXvNhBhI"
      }
    },
    {
      "cell_type": "code",
      "source": [
        "# Label encoding\n",
        "dataset_limpio$Target <- unclass(dataset_limpio$Target)\n",
        "# Transformación a valor numérico\n",
        "dataset_limpio$Target <- as.numeric(dataset_limpio$Target)\n",
        "# Binarizamos al variable\n",
        "dataset_limpio$Target[dataset_limpio$Target == 1] <- 0\n",
        "dataset_limpio$Target[dataset_limpio$Target == 3] <- 1"
      ],
      "metadata": {
        "id": "xE5AvcVpVR9h"
      },
      "execution_count": 8,
      "outputs": []
    },
    {
      "cell_type": "markdown",
      "source": [
        "Vemos que ahora la columna Target es binaria:"
      ],
      "metadata": {
        "id": "guxXZgw51qNW"
      }
    },
    {
      "cell_type": "code",
      "source": [
        "head(dataset_limpio[\"Target\"], 3)"
      ],
      "metadata": {
        "colab": {
          "base_uri": "https://localhost:8080/",
          "height": 210
        },
        "id": "dZ9XEDPGRSN0",
        "outputId": "36aea2f6-fb50-46ca-9fb2-0af90d3908fb"
      },
      "execution_count": 9,
      "outputs": [
        {
          "output_type": "display_data",
          "data": {
            "text/html": [
              "<table class=\"dataframe\">\n",
              "<caption>A data.frame: 3 × 1</caption>\n",
              "<thead>\n",
              "\t<tr><th></th><th scope=col>Target</th></tr>\n",
              "\t<tr><th></th><th scope=col>&lt;dbl&gt;</th></tr>\n",
              "</thead>\n",
              "<tbody>\n",
              "\t<tr><th scope=row>1</th><td>0</td></tr>\n",
              "\t<tr><th scope=row>2</th><td>1</td></tr>\n",
              "\t<tr><th scope=row>3</th><td>0</td></tr>\n",
              "</tbody>\n",
              "</table>\n"
            ],
            "text/markdown": "\nA data.frame: 3 × 1\n\n| <!--/--> | Target &lt;dbl&gt; |\n|---|---|\n| 1 | 0 |\n| 2 | 1 |\n| 3 | 0 |\n\n",
            "text/latex": "A data.frame: 3 × 1\n\\begin{tabular}{r|l}\n  & Target\\\\\n  & <dbl>\\\\\n\\hline\n\t1 & 0\\\\\n\t2 & 1\\\\\n\t3 & 0\\\\\n\\end{tabular}\n",
            "text/plain": [
              "  Target\n",
              "1 0     \n",
              "2 1     \n",
              "3 0     "
            ]
          },
          "metadata": {}
        }
      ]
    },
    {
      "cell_type": "markdown",
      "source": [
        "Calculamos las correlaciones de las distintas columnas con respecto a nuestra columna objetivo:"
      ],
      "metadata": {
        "id": "KqWZ5vH6FoTs"
      }
    },
    {
      "cell_type": "code",
      "source": [
        "columnas <- c(colnames(dataset)!=\"Target\")\n",
        "correlaciones <- round(cor(dataset_limpio[,columnas], dataset_limpio$Target), 2)"
      ],
      "metadata": {
        "id": "r0gSzOOL_tJd"
      },
      "execution_count": 10,
      "outputs": []
    },
    {
      "cell_type": "markdown",
      "source": [
        "Obtenemos las 10 columnas que más correlación tienen con nuestra columna objetivo para usarlas en el modelo de regresión:"
      ],
      "metadata": {
        "id": "lhdLpEyMTvQX"
      }
    },
    {
      "cell_type": "code",
      "source": [
        "head(correlaciones[order(correlaciones,decreasing=TRUE),], 10)"
      ],
      "metadata": {
        "colab": {
          "base_uri": "https://localhost:8080/",
          "height": 52
        },
        "id": "i61rdF4MSJX8",
        "outputId": "2a7a8ebf-643a-4023-ffc7-bb17fe0e6e5f"
      },
      "execution_count": 11,
      "outputs": [
        {
          "output_type": "display_data",
          "data": {
            "text/html": [
              "<style>\n",
              ".dl-inline {width: auto; margin:0; padding: 0}\n",
              ".dl-inline>dt, .dl-inline>dd {float: none; width: auto; display: inline-block}\n",
              ".dl-inline>dt::after {content: \":\\0020\"; padding-right: .5ex}\n",
              ".dl-inline>dt:not(:first-of-type) {padding-left: .5ex}\n",
              "</style><dl class=dl-inline><dt>Curricular.units.2nd.sem..approved.</dt><dd>0.65</dd><dt>Curricular.units.2nd.sem..grade.</dt><dd>0.61</dd><dt>Curricular.units.1st.sem..approved.</dt><dd>0.55</dd><dt>Curricular.units.1st.sem..grade.</dt><dd>0.52</dd><dt>Tuition.fees.up.to.date</dt><dd>0.44</dd><dt>Scholarship.holder</dt><dd>0.31</dd><dt>Curricular.units.2nd.sem..enrolled.</dt><dd>0.18</dd><dt>Curricular.units.1st.sem..enrolled.</dt><dd>0.16</dd><dt>Displaced</dt><dd>0.13</dd><dt>Curricular.units.2nd.sem..evaluations.</dt><dd>0.12</dd></dl>\n"
            ],
            "text/markdown": "Curricular.units.2nd.sem..approved.\n:   0.65Curricular.units.2nd.sem..grade.\n:   0.61Curricular.units.1st.sem..approved.\n:   0.55Curricular.units.1st.sem..grade.\n:   0.52Tuition.fees.up.to.date\n:   0.44Scholarship.holder\n:   0.31Curricular.units.2nd.sem..enrolled.\n:   0.18Curricular.units.1st.sem..enrolled.\n:   0.16Displaced\n:   0.13Curricular.units.2nd.sem..evaluations.\n:   0.12\n\n",
            "text/latex": "\\begin{description*}\n\\item[Curricular.units.2nd.sem..approved.] 0.65\n\\item[Curricular.units.2nd.sem..grade.] 0.61\n\\item[Curricular.units.1st.sem..approved.] 0.55\n\\item[Curricular.units.1st.sem..grade.] 0.52\n\\item[Tuition.fees.up.to.date] 0.44\n\\item[Scholarship.holder] 0.31\n\\item[Curricular.units.2nd.sem..enrolled.] 0.18\n\\item[Curricular.units.1st.sem..enrolled.] 0.16\n\\item[Displaced] 0.13\n\\item[Curricular.units.2nd.sem..evaluations.] 0.12\n\\end{description*}\n",
            "text/plain": [
              "   Curricular.units.2nd.sem..approved.       Curricular.units.2nd.sem..grade. \n",
              "                                  0.65                                   0.61 \n",
              "   Curricular.units.1st.sem..approved.       Curricular.units.1st.sem..grade. \n",
              "                                  0.55                                   0.52 \n",
              "               Tuition.fees.up.to.date                     Scholarship.holder \n",
              "                                  0.44                                   0.31 \n",
              "   Curricular.units.2nd.sem..enrolled.    Curricular.units.1st.sem..enrolled. \n",
              "                                  0.18                                   0.16 \n",
              "                             Displaced Curricular.units.2nd.sem..evaluations. \n",
              "                                  0.13                                   0.12 "
            ]
          },
          "metadata": {}
        }
      ]
    },
    {
      "cell_type": "markdown",
      "source": [
        "Colinearidad"
      ],
      "metadata": {
        "id": "F0I7Nn9t42Hm"
      }
    },
    {
      "cell_type": "code",
      "source": [
        "columnas <- c(\"Curricular.units.2nd.sem..approved.\", \"Curricular.units.2nd.sem..grade.\", \"Curricular.units.1st.sem..approved.\",\n",
        "\"Curricular.units.1st.sem..grade.\", \"Tuition.fees.up.to.date\", \"Scholarship.holder\", \"Curricular.units.2nd.sem..enrolled.\",\n",
        "\"Curricular.units.1st.sem..enrolled.\",\t\"Displaced\")\n",
        "correlaciones <- round(cor(dataset_limpio[,columnas], dataset_limpio[,columnas]), 2)\n",
        "correlaciones"
      ],
      "metadata": {
        "colab": {
          "base_uri": "https://localhost:8080/",
          "height": 369
        },
        "id": "OV2vX6Jo4c3q",
        "outputId": "ffebfe89-d76f-4151-b777-871cb19985b0"
      },
      "execution_count": 12,
      "outputs": [
        {
          "output_type": "display_data",
          "data": {
            "text/html": [
              "<table class=\"dataframe\">\n",
              "<caption>A matrix: 9 × 9 of type dbl</caption>\n",
              "<thead>\n",
              "\t<tr><th></th><th scope=col>Curricular.units.2nd.sem..approved.</th><th scope=col>Curricular.units.2nd.sem..grade.</th><th scope=col>Curricular.units.1st.sem..approved.</th><th scope=col>Curricular.units.1st.sem..grade.</th><th scope=col>Tuition.fees.up.to.date</th><th scope=col>Scholarship.holder</th><th scope=col>Curricular.units.2nd.sem..enrolled.</th><th scope=col>Curricular.units.1st.sem..enrolled.</th><th scope=col>Displaced</th></tr>\n",
              "</thead>\n",
              "<tbody>\n",
              "\t<tr><th scope=row>Curricular.units.2nd.sem..approved.</th><td>1.00</td><td>0.79</td><td>0.92</td><td>0.69</td><td>0.33</td><td> 0.21</td><td> 0.70</td><td> 0.67</td><td> 0.08</td></tr>\n",
              "\t<tr><th scope=row>Curricular.units.2nd.sem..grade.</th><td>0.79</td><td>1.00</td><td>0.71</td><td>0.85</td><td>0.32</td><td> 0.21</td><td> 0.40</td><td> 0.37</td><td> 0.08</td></tr>\n",
              "\t<tr><th scope=row>Curricular.units.1st.sem..approved.</th><td>0.92</td><td>0.71</td><td>1.00</td><td>0.71</td><td>0.28</td><td> 0.17</td><td> 0.74</td><td> 0.77</td><td> 0.06</td></tr>\n",
              "\t<tr><th scope=row>Curricular.units.1st.sem..grade.</th><td>0.69</td><td>0.85</td><td>0.71</td><td>1.00</td><td>0.28</td><td> 0.20</td><td> 0.41</td><td> 0.38</td><td> 0.08</td></tr>\n",
              "\t<tr><th scope=row>Tuition.fees.up.to.date</th><td>0.33</td><td>0.32</td><td>0.28</td><td>0.28</td><td>1.00</td><td> 0.17</td><td> 0.10</td><td> 0.07</td><td> 0.11</td></tr>\n",
              "\t<tr><th scope=row>Scholarship.holder</th><td>0.21</td><td>0.21</td><td>0.17</td><td>0.20</td><td>0.17</td><td> 1.00</td><td> 0.02</td><td>-0.01</td><td> 0.09</td></tr>\n",
              "\t<tr><th scope=row>Curricular.units.2nd.sem..enrolled.</th><td>0.70</td><td>0.40</td><td>0.74</td><td>0.41</td><td>0.10</td><td> 0.02</td><td> 1.00</td><td> 0.94</td><td>-0.05</td></tr>\n",
              "\t<tr><th scope=row>Curricular.units.1st.sem..enrolled.</th><td>0.67</td><td>0.37</td><td>0.77</td><td>0.38</td><td>0.07</td><td>-0.01</td><td> 0.94</td><td> 1.00</td><td>-0.07</td></tr>\n",
              "\t<tr><th scope=row>Displaced</th><td>0.08</td><td>0.08</td><td>0.06</td><td>0.08</td><td>0.11</td><td> 0.09</td><td>-0.05</td><td>-0.07</td><td> 1.00</td></tr>\n",
              "</tbody>\n",
              "</table>\n"
            ],
            "text/markdown": "\nA matrix: 9 × 9 of type dbl\n\n| <!--/--> | Curricular.units.2nd.sem..approved. | Curricular.units.2nd.sem..grade. | Curricular.units.1st.sem..approved. | Curricular.units.1st.sem..grade. | Tuition.fees.up.to.date | Scholarship.holder | Curricular.units.2nd.sem..enrolled. | Curricular.units.1st.sem..enrolled. | Displaced |\n|---|---|---|---|---|---|---|---|---|---|\n| Curricular.units.2nd.sem..approved. | 1.00 | 0.79 | 0.92 | 0.69 | 0.33 |  0.21 |  0.70 |  0.67 |  0.08 |\n| Curricular.units.2nd.sem..grade. | 0.79 | 1.00 | 0.71 | 0.85 | 0.32 |  0.21 |  0.40 |  0.37 |  0.08 |\n| Curricular.units.1st.sem..approved. | 0.92 | 0.71 | 1.00 | 0.71 | 0.28 |  0.17 |  0.74 |  0.77 |  0.06 |\n| Curricular.units.1st.sem..grade. | 0.69 | 0.85 | 0.71 | 1.00 | 0.28 |  0.20 |  0.41 |  0.38 |  0.08 |\n| Tuition.fees.up.to.date | 0.33 | 0.32 | 0.28 | 0.28 | 1.00 |  0.17 |  0.10 |  0.07 |  0.11 |\n| Scholarship.holder | 0.21 | 0.21 | 0.17 | 0.20 | 0.17 |  1.00 |  0.02 | -0.01 |  0.09 |\n| Curricular.units.2nd.sem..enrolled. | 0.70 | 0.40 | 0.74 | 0.41 | 0.10 |  0.02 |  1.00 |  0.94 | -0.05 |\n| Curricular.units.1st.sem..enrolled. | 0.67 | 0.37 | 0.77 | 0.38 | 0.07 | -0.01 |  0.94 |  1.00 | -0.07 |\n| Displaced | 0.08 | 0.08 | 0.06 | 0.08 | 0.11 |  0.09 | -0.05 | -0.07 |  1.00 |\n\n",
            "text/latex": "A matrix: 9 × 9 of type dbl\n\\begin{tabular}{r|lllllllll}\n  & Curricular.units.2nd.sem..approved. & Curricular.units.2nd.sem..grade. & Curricular.units.1st.sem..approved. & Curricular.units.1st.sem..grade. & Tuition.fees.up.to.date & Scholarship.holder & Curricular.units.2nd.sem..enrolled. & Curricular.units.1st.sem..enrolled. & Displaced\\\\\n\\hline\n\tCurricular.units.2nd.sem..approved. & 1.00 & 0.79 & 0.92 & 0.69 & 0.33 &  0.21 &  0.70 &  0.67 &  0.08\\\\\n\tCurricular.units.2nd.sem..grade. & 0.79 & 1.00 & 0.71 & 0.85 & 0.32 &  0.21 &  0.40 &  0.37 &  0.08\\\\\n\tCurricular.units.1st.sem..approved. & 0.92 & 0.71 & 1.00 & 0.71 & 0.28 &  0.17 &  0.74 &  0.77 &  0.06\\\\\n\tCurricular.units.1st.sem..grade. & 0.69 & 0.85 & 0.71 & 1.00 & 0.28 &  0.20 &  0.41 &  0.38 &  0.08\\\\\n\tTuition.fees.up.to.date & 0.33 & 0.32 & 0.28 & 0.28 & 1.00 &  0.17 &  0.10 &  0.07 &  0.11\\\\\n\tScholarship.holder & 0.21 & 0.21 & 0.17 & 0.20 & 0.17 &  1.00 &  0.02 & -0.01 &  0.09\\\\\n\tCurricular.units.2nd.sem..enrolled. & 0.70 & 0.40 & 0.74 & 0.41 & 0.10 &  0.02 &  1.00 &  0.94 & -0.05\\\\\n\tCurricular.units.1st.sem..enrolled. & 0.67 & 0.37 & 0.77 & 0.38 & 0.07 & -0.01 &  0.94 &  1.00 & -0.07\\\\\n\tDisplaced & 0.08 & 0.08 & 0.06 & 0.08 & 0.11 &  0.09 & -0.05 & -0.07 &  1.00\\\\\n\\end{tabular}\n",
            "text/plain": [
              "                                    Curricular.units.2nd.sem..approved.\n",
              "Curricular.units.2nd.sem..approved. 1.00                               \n",
              "Curricular.units.2nd.sem..grade.    0.79                               \n",
              "Curricular.units.1st.sem..approved. 0.92                               \n",
              "Curricular.units.1st.sem..grade.    0.69                               \n",
              "Tuition.fees.up.to.date             0.33                               \n",
              "Scholarship.holder                  0.21                               \n",
              "Curricular.units.2nd.sem..enrolled. 0.70                               \n",
              "Curricular.units.1st.sem..enrolled. 0.67                               \n",
              "Displaced                           0.08                               \n",
              "                                    Curricular.units.2nd.sem..grade.\n",
              "Curricular.units.2nd.sem..approved. 0.79                            \n",
              "Curricular.units.2nd.sem..grade.    1.00                            \n",
              "Curricular.units.1st.sem..approved. 0.71                            \n",
              "Curricular.units.1st.sem..grade.    0.85                            \n",
              "Tuition.fees.up.to.date             0.32                            \n",
              "Scholarship.holder                  0.21                            \n",
              "Curricular.units.2nd.sem..enrolled. 0.40                            \n",
              "Curricular.units.1st.sem..enrolled. 0.37                            \n",
              "Displaced                           0.08                            \n",
              "                                    Curricular.units.1st.sem..approved.\n",
              "Curricular.units.2nd.sem..approved. 0.92                               \n",
              "Curricular.units.2nd.sem..grade.    0.71                               \n",
              "Curricular.units.1st.sem..approved. 1.00                               \n",
              "Curricular.units.1st.sem..grade.    0.71                               \n",
              "Tuition.fees.up.to.date             0.28                               \n",
              "Scholarship.holder                  0.17                               \n",
              "Curricular.units.2nd.sem..enrolled. 0.74                               \n",
              "Curricular.units.1st.sem..enrolled. 0.77                               \n",
              "Displaced                           0.06                               \n",
              "                                    Curricular.units.1st.sem..grade.\n",
              "Curricular.units.2nd.sem..approved. 0.69                            \n",
              "Curricular.units.2nd.sem..grade.    0.85                            \n",
              "Curricular.units.1st.sem..approved. 0.71                            \n",
              "Curricular.units.1st.sem..grade.    1.00                            \n",
              "Tuition.fees.up.to.date             0.28                            \n",
              "Scholarship.holder                  0.20                            \n",
              "Curricular.units.2nd.sem..enrolled. 0.41                            \n",
              "Curricular.units.1st.sem..enrolled. 0.38                            \n",
              "Displaced                           0.08                            \n",
              "                                    Tuition.fees.up.to.date Scholarship.holder\n",
              "Curricular.units.2nd.sem..approved. 0.33                     0.21             \n",
              "Curricular.units.2nd.sem..grade.    0.32                     0.21             \n",
              "Curricular.units.1st.sem..approved. 0.28                     0.17             \n",
              "Curricular.units.1st.sem..grade.    0.28                     0.20             \n",
              "Tuition.fees.up.to.date             1.00                     0.17             \n",
              "Scholarship.holder                  0.17                     1.00             \n",
              "Curricular.units.2nd.sem..enrolled. 0.10                     0.02             \n",
              "Curricular.units.1st.sem..enrolled. 0.07                    -0.01             \n",
              "Displaced                           0.11                     0.09             \n",
              "                                    Curricular.units.2nd.sem..enrolled.\n",
              "Curricular.units.2nd.sem..approved.  0.70                              \n",
              "Curricular.units.2nd.sem..grade.     0.40                              \n",
              "Curricular.units.1st.sem..approved.  0.74                              \n",
              "Curricular.units.1st.sem..grade.     0.41                              \n",
              "Tuition.fees.up.to.date              0.10                              \n",
              "Scholarship.holder                   0.02                              \n",
              "Curricular.units.2nd.sem..enrolled.  1.00                              \n",
              "Curricular.units.1st.sem..enrolled.  0.94                              \n",
              "Displaced                           -0.05                              \n",
              "                                    Curricular.units.1st.sem..enrolled.\n",
              "Curricular.units.2nd.sem..approved.  0.67                              \n",
              "Curricular.units.2nd.sem..grade.     0.37                              \n",
              "Curricular.units.1st.sem..approved.  0.77                              \n",
              "Curricular.units.1st.sem..grade.     0.38                              \n",
              "Tuition.fees.up.to.date              0.07                              \n",
              "Scholarship.holder                  -0.01                              \n",
              "Curricular.units.2nd.sem..enrolled.  0.94                              \n",
              "Curricular.units.1st.sem..enrolled.  1.00                              \n",
              "Displaced                           -0.07                              \n",
              "                                    Displaced\n",
              "Curricular.units.2nd.sem..approved.  0.08    \n",
              "Curricular.units.2nd.sem..grade.     0.08    \n",
              "Curricular.units.1st.sem..approved.  0.06    \n",
              "Curricular.units.1st.sem..grade.     0.08    \n",
              "Tuition.fees.up.to.date              0.11    \n",
              "Scholarship.holder                   0.09    \n",
              "Curricular.units.2nd.sem..enrolled. -0.05    \n",
              "Curricular.units.1st.sem..enrolled. -0.07    \n",
              "Displaced                            1.00    "
            ]
          },
          "metadata": {}
        }
      ]
    },
    {
      "cell_type": "markdown",
      "source": [
        "# Regresión logística"
      ],
      "metadata": {
        "id": "b00V6If6fvz6"
      }
    },
    {
      "cell_type": "markdown",
      "source": [
        "## Función de precisión"
      ],
      "metadata": {
        "id": "ZFmNb0ytc-Yj"
      }
    },
    {
      "cell_type": "markdown",
      "source": [
        "La función de precisión será simple: el número de predicciones correctas entre el total de predicciones realizadas."
      ],
      "metadata": {
        "id": "4lv1FjwL48m2"
      }
    },
    {
      "cell_type": "code",
      "source": [
        "check_accuracy <- function(predictions, true_values) {\n",
        "  count <- 0\n",
        "  total <- length(true_values)\n",
        "  for (x in 1:total) {\n",
        "    if (predictions[x]==true_values[x]) {\n",
        "      count <- count +1\n",
        "    }\n",
        "  }\n",
        "  round(count/total, 3)\n",
        "}"
      ],
      "metadata": {
        "id": "aGSukq9-L_AS"
      },
      "execution_count": 13,
      "outputs": []
    },
    {
      "cell_type": "markdown",
      "source": [
        "## Creación del modelo"
      ],
      "metadata": {
        "id": "vg5ad0H2d2Ps"
      }
    },
    {
      "cell_type": "markdown",
      "source": [
        "Usaremos las filas desde la 1 hasta la 3000 para entrenar el modelo y de la 3001 a la 3630 para test."
      ],
      "metadata": {
        "id": "i-ebLh1qb_s0"
      }
    },
    {
      "cell_type": "code",
      "source": [
        "modelo <- glm(\n",
        "  Target ~ Curricular.units.2nd.sem..approved. + Curricular.units.2nd.sem..grade. + Curricular.units.1st.sem..approved. +\n",
        "Curricular.units.1st.sem..grade. + Tuition.fees.up.to.date + Scholarship.holder + Curricular.units.2nd.sem..enrolled.\t+\n",
        "Curricular.units.1st.sem..enrolled.\t+ Displaced, data = dataset_limpio[1:3000,], family = \"binomial\")"
      ],
      "metadata": {
        "id": "l8av8SIOVrMV"
      },
      "execution_count": 14,
      "outputs": []
    },
    {
      "cell_type": "code",
      "source": [
        "summary(modelo)"
      ],
      "metadata": {
        "colab": {
          "base_uri": "https://localhost:8080/",
          "height": 555
        },
        "id": "agKOb3MsVq89",
        "outputId": "9b0c2b2d-3052-422e-f5d5-a2b225a42ea7"
      },
      "execution_count": 15,
      "outputs": [
        {
          "output_type": "display_data",
          "data": {
            "text/plain": [
              "\n",
              "Call:\n",
              "glm(formula = Target ~ Curricular.units.2nd.sem..approved. + \n",
              "    Curricular.units.2nd.sem..grade. + Curricular.units.1st.sem..approved. + \n",
              "    Curricular.units.1st.sem..grade. + Tuition.fees.up.to.date + \n",
              "    Scholarship.holder + Curricular.units.2nd.sem..enrolled. + \n",
              "    Curricular.units.1st.sem..enrolled. + Displaced, family = \"binomial\", \n",
              "    data = dataset_limpio[1:3000, ])\n",
              "\n",
              "Coefficients:\n",
              "                                    Estimate Std. Error z value Pr(>|z|)    \n",
              "(Intercept)                         -2.88281    0.34976  -8.242  < 2e-16 ***\n",
              "Curricular.units.2nd.sem..approved.  1.03591    0.07010  14.778  < 2e-16 ***\n",
              "Curricular.units.2nd.sem..grade.     0.13751    0.05309   2.590  0.00959 ** \n",
              "Curricular.units.1st.sem..approved.  0.52175    0.07545   6.916 4.66e-12 ***\n",
              "Curricular.units.1st.sem..grade.    -0.05850    0.05209  -1.123  0.26145    \n",
              "Tuition.fees.up.to.date              2.97801    0.28631  10.401  < 2e-16 ***\n",
              "Scholarship.holder                   0.87887    0.16999   5.170 2.34e-07 ***\n",
              "Curricular.units.2nd.sem..enrolled. -0.79620    0.11826  -6.733 1.66e-11 ***\n",
              "Curricular.units.1st.sem..enrolled. -0.47606    0.10831  -4.395 1.11e-05 ***\n",
              "Displaced                           -0.03432    0.14159  -0.242  0.80849    \n",
              "---\n",
              "Signif. codes:  0 ‘***’ 0.001 ‘**’ 0.01 ‘*’ 0.05 ‘.’ 0.1 ‘ ’ 1\n",
              "\n",
              "(Dispersion parameter for binomial family taken to be 1)\n",
              "\n",
              "    Null deviance: 4001.6  on 2999  degrees of freedom\n",
              "Residual deviance: 1464.4  on 2990  degrees of freedom\n",
              "AIC: 1484.4\n",
              "\n",
              "Number of Fisher Scoring iterations: 7\n"
            ]
          },
          "metadata": {}
        }
      ]
    },
    {
      "cell_type": "markdown",
      "source": [
        "## Predicción"
      ],
      "metadata": {
        "id": "TkGWSPGyd5l0"
      }
    },
    {
      "cell_type": "code",
      "source": [
        "test = dataset_limpio[3001:3630, c(\"Curricular.units.2nd.sem..approved.\", \"Curricular.units.2nd.sem..grade.\", \"Curricular.units.1st.sem..approved.\",\n",
        "\"Curricular.units.1st.sem..grade.\", \"Tuition.fees.up.to.date\", \"Scholarship.holder\", \"Curricular.units.2nd.sem..enrolled.\",\n",
        "\"Curricular.units.1st.sem..enrolled.\",\t\"Displaced\")]\n",
        "test$Target_prob <- predict(modelo, newdata = test, type = \"response\")"
      ],
      "metadata": {
        "id": "PpHVCagaO3oA"
      },
      "execution_count": 16,
      "outputs": []
    },
    {
      "cell_type": "code",
      "source": [
        "test$Target_prediction[test$Target_prob >= 0.5] <- 1\n",
        "test$Target_prediction[test$Target_prob < 0.5] <- 0"
      ],
      "metadata": {
        "id": "-scN66jYb-qx"
      },
      "execution_count": 17,
      "outputs": []
    },
    {
      "cell_type": "code",
      "source": [
        "predictions <- test$Target_prediction"
      ],
      "metadata": {
        "id": "z8vqmd02autQ"
      },
      "execution_count": 18,
      "outputs": []
    },
    {
      "cell_type": "code",
      "source": [
        "true_values <- dataset_limpio[3001:3630, \"Target\"]"
      ],
      "metadata": {
        "id": "OsOr24wUbmiS"
      },
      "execution_count": 19,
      "outputs": []
    },
    {
      "cell_type": "code",
      "source": [
        "check_accuracy(predictions, true_values)"
      ],
      "metadata": {
        "colab": {
          "base_uri": "https://localhost:8080/",
          "height": 34
        },
        "id": "QGXmy-uQcc86",
        "outputId": "b1a2297f-5589-40db-ced6-665328b46436"
      },
      "execution_count": 20,
      "outputs": [
        {
          "output_type": "display_data",
          "data": {
            "text/html": [
              "0.903"
            ],
            "text/markdown": "0.903",
            "text/latex": "0.903",
            "text/plain": [
              "[1] 0.903"
            ]
          },
          "metadata": {}
        }
      ]
    },
    {
      "cell_type": "markdown",
      "source": [
        "# Conclusiones"
      ],
      "metadata": {
        "id": "BtySpgRRtPz-"
      }
    },
    {
      "cell_type": "markdown",
      "source": [
        "Vemos que con un modelo simple de regresión logística hemos conseguido un 90% de precisión. Siempre se trata a las regresiones como modelos débiles pero, usados en el problema correcto, pueden ser muy pontentes.\n"
      ],
      "metadata": {
        "id": "NC9lpvQ0I7eN"
      }
    },
    {
      "cell_type": "markdown",
      "source": [
        "# Recursos"
      ],
      "metadata": {
        "id": "S-SOrk3Tz-Bq"
      }
    },
    {
      "cell_type": "markdown",
      "source": [
        "https://www.mdpi.com/2306-5729/7/11/146  \n",
        "https://stats.oarc.ucla.edu/r/dae/logit-regression/  \n",
        "https://statisticsbyjim.com/regression/multicollinearity-in-regression-analysis/"
      ],
      "metadata": {
        "id": "SjHeNCUpYpy-"
      }
    }
  ]
}